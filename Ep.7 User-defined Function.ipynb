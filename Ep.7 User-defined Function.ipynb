{
 "cells": [
  {
   "cell_type": "markdown",
   "metadata": {},
   "source": [
    "## Function with returning value(s) & how to call function"
   ]
  },
  {
   "cell_type": "code",
   "execution_count": 1,
   "metadata": {},
   "outputs": [
    {
     "name": "stdout",
     "output_type": "stream",
     "text": [
      "86.0\n"
     ]
    }
   ],
   "source": [
    "def tempConversion(celsiusTemp):\n",
    "    fahrenheitTemp = (celsiusTemp*9/5)+32\n",
    "    return(fahrenheitTemp)\n",
    "\n",
    "convertedTemp = tempConversion(30)\n",
    "print(convertedTemp)"
   ]
  },
  {
   "cell_type": "markdown",
   "metadata": {},
   "source": [
    "## Global variable"
   ]
  },
  {
   "cell_type": "code",
   "execution_count": 2,
   "metadata": {},
   "outputs": [
    {
     "name": "stdout",
     "output_type": "stream",
     "text": [
      "global a = 1\n",
      "Inside func1() a = 1\n",
      "global a = 1\n",
      "Inside func2() a = 1\n",
      "global a = 1\n",
      "Inside func3() a = 3\n",
      "global a = 3\n"
     ]
    }
   ],
   "source": [
    "a = 1\n",
    "def func1():\n",
    "    print('Inside func1() a =', a)\n",
    "    \n",
    "def func2():\n",
    "    print('Inside func2() a =', a)\n",
    "    \n",
    "def func3():\n",
    "    global a\n",
    "    a = 3\n",
    "    print('Inside func3() a =', a)\n",
    "    \n",
    "# Global scope\n",
    "print('global a =', a)\n",
    "func1()\n",
    "print('global a =', a)\n",
    "func2()\n",
    "print('global a =', a)\n",
    "func3()\n",
    "print('global a =', a)"
   ]
  },
  {
   "cell_type": "code",
   "execution_count": null,
   "metadata": {},
   "outputs": [],
   "source": []
  }
 ],
 "metadata": {
  "kernelspec": {
   "display_name": "Python 3",
   "language": "python",
   "name": "python3"
  },
  "language_info": {
   "codemirror_mode": {
    "name": "ipython",
    "version": 3
   },
   "file_extension": ".py",
   "mimetype": "text/x-python",
   "name": "python",
   "nbconvert_exporter": "python",
   "pygments_lexer": "ipython3",
   "version": "3.8.5"
  }
 },
 "nbformat": 4,
 "nbformat_minor": 4
}
