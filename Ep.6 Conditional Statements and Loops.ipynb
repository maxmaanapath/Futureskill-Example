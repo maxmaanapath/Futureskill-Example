{
 "cells": [
  {
   "cell_type": "markdown",
   "metadata": {},
   "source": [
    "## if statement"
   ]
  },
  {
   "cell_type": "code",
   "execution_count": 1,
   "metadata": {},
   "outputs": [
    {
     "name": "stdout",
     "output_type": "stream",
     "text": [
      "Guess a number : 10\n",
      "Your guess is right !\n",
      "You can get the prize only when your guess is right\n"
     ]
    }
   ],
   "source": [
    "num_list = [10, 20, 30, 40, 50]\n",
    "guess = eval(input('Guess a number : '))\n",
    "if guess in num_list:\n",
    "    print('Your guess is right !')\n",
    "print('You can get the prize only when your guess is right')"
   ]
  },
  {
   "cell_type": "markdown",
   "metadata": {},
   "source": [
    "## if-else statement"
   ]
  },
  {
   "cell_type": "code",
   "execution_count": 2,
   "metadata": {},
   "outputs": [
    {
     "name": "stdout",
     "output_type": "stream",
     "text": [
      "Guess a number : 60\n",
      "Your guess is wrong !\n",
      "You can get the prize only when your guess is right\n"
     ]
    }
   ],
   "source": [
    "num_list = [10, 20, 30, 40, 50]\n",
    "guess = eval(input('Guess a number : '))\n",
    "if guess in num_list:\n",
    "    print('Your guess is right !')\n",
    "else:\n",
    "    print('Your guess is wrong !')\n",
    "print('You can get the prize only when your guess is right')"
   ]
  },
  {
   "cell_type": "markdown",
   "metadata": {},
   "source": [
    "## if-elif-else statement"
   ]
  },
  {
   "cell_type": "code",
   "execution_count": 3,
   "metadata": {},
   "outputs": [
    {
     "name": "stdout",
     "output_type": "stream",
     "text": [
      "Guess a number : 80\n",
      "Congratulations, you win our second prize !\n",
      "You can get the prize only when your guess is right\n"
     ]
    }
   ],
   "source": [
    "firstPrize_num_list = [10, 20, 30, 40, 50]\n",
    "secondPrize_num_list = [60, 70, 80, 90, 100]\n",
    "\n",
    "guess = eval(input('Guess a number : '))\n",
    "\n",
    "if guess in firstPrize_num_list:\n",
    "    print('Congratulations, you win our frist prize !')\n",
    "    \n",
    "elif guess in secondPrize_num_list:\n",
    "    print('Congratulations, you win our second prize !')\n",
    "    \n",
    "else:\n",
    "    print('Sorry, your guess is wrong...')\n",
    "    \n",
    "print('You can get the prize only when your guess is right')"
   ]
  },
  {
   "cell_type": "code",
   "execution_count": null,
   "metadata": {},
   "outputs": [],
   "source": []
  }
 ],
 "metadata": {
  "kernelspec": {
   "display_name": "Python 3",
   "language": "python",
   "name": "python3"
  },
  "language_info": {
   "codemirror_mode": {
    "name": "ipython",
    "version": 3
   },
   "file_extension": ".py",
   "mimetype": "text/x-python",
   "name": "python",
   "nbconvert_exporter": "python",
   "pygments_lexer": "ipython3",
   "version": "3.8.5"
  }
 },
 "nbformat": 4,
 "nbformat_minor": 4
}
