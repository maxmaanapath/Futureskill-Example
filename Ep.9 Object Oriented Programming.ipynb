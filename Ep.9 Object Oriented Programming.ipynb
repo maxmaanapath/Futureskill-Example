{
 "cells": [
  {
   "cell_type": "markdown",
   "metadata": {},
   "source": [
    "## Create an instance from a class"
   ]
  },
  {
   "cell_type": "code",
   "execution_count": 1,
   "metadata": {},
   "outputs": [
    {
     "name": "stdout",
     "output_type": "stream",
     "text": [
      "<class '__main__.BankAccount'>\n"
     ]
    }
   ],
   "source": [
    "class BankAccount:\n",
    "    pass\n",
    "account = BankAccount()\n",
    "\n",
    "#### Check the instance's type ####\n",
    "print(type(account))"
   ]
  },
  {
   "cell_type": "markdown",
   "metadata": {},
   "source": [
    "## Inheritance"
   ]
  },
  {
   "cell_type": "code",
   "execution_count": 2,
   "metadata": {},
   "outputs": [
    {
     "name": "stdout",
     "output_type": "stream",
     "text": [
      "radius of circle c1: 10\n"
     ]
    }
   ],
   "source": [
    "#### Parent Class ####\n",
    "class Shape:\n",
    "    def __init__(self):\n",
    "        self.color = 'black'\n",
    "    def get_color(self):\n",
    "        return self.color\n",
    "\n",
    "#### Child Class ####\n",
    "class Circle(Shape):\n",
    "    def __init__(self):\n",
    "        super().__init__()\n",
    "        self.radius = 10\n",
    "    def get_radius(self):\n",
    "        return self.radius\n",
    "\n",
    "#### Create an instance from Circle class ####\n",
    "c1 = Circle()\n",
    "\n",
    "print('radius of circle c1:', c1.get_radius())"
   ]
  },
  {
   "cell_type": "code",
   "execution_count": 3,
   "metadata": {},
   "outputs": [
    {
     "name": "stdout",
     "output_type": "stream",
     "text": [
      "color of circle c1: black\n"
     ]
    }
   ],
   "source": [
    "print('color of circle c1:', c1.get_color())"
   ]
  },
  {
   "cell_type": "markdown",
   "metadata": {},
   "source": [
    "## Polymorphism"
   ]
  },
  {
   "cell_type": "code",
   "execution_count": 4,
   "metadata": {},
   "outputs": [
    {
     "name": "stdout",
     "output_type": "stream",
     "text": [
      "color of rectangle S1: black\n"
     ]
    }
   ],
   "source": [
    "#### Parent class ####\n",
    "class Shape:\n",
    "    color = 'black'\n",
    "\n",
    "#### Child class ####\n",
    "class Rectangle(Shape):\n",
    "    pass\n",
    "\n",
    "#### Child class ####\n",
    "class Circle(Shape):\n",
    "    color = 'blue'\n",
    "    \n",
    "S1 = Rectangle()\n",
    "print('color of rectangle S1:', S1.color)"
   ]
  },
  {
   "cell_type": "code",
   "execution_count": 5,
   "metadata": {},
   "outputs": [
    {
     "name": "stdout",
     "output_type": "stream",
     "text": [
      "color of circle S2: blue\n"
     ]
    }
   ],
   "source": [
    "S2 = Circle()\n",
    "print('color of circle S2:', S2.color)"
   ]
  },
  {
   "cell_type": "markdown",
   "metadata": {},
   "source": [
    "## init() method"
   ]
  },
  {
   "cell_type": "code",
   "execution_count": 6,
   "metadata": {},
   "outputs": [],
   "source": [
    "class BankAccount:\n",
    "    #### class attribute ####\n",
    "    bankAccountType = 'Saving Account'\n",
    "    \n",
    "    #### initializer/ constructor ####\n",
    "    def __init__(self, owner, amount = 0):\n",
    "        #### instance attribute ####\n",
    "        self.owner = owner\n",
    "        self.amount = amount\n",
    "        \n",
    "#### Create an instance of BankAccount class ####\n",
    "account1 = BankAccount('CheeZe')"
   ]
  },
  {
   "cell_type": "code",
   "execution_count": 7,
   "metadata": {},
   "outputs": [
    {
     "name": "stdout",
     "output_type": "stream",
     "text": [
      "CheeZe\n",
      "0\n"
     ]
    }
   ],
   "source": [
    "print(account1.owner)\n",
    "print(account1.amount)"
   ]
  },
  {
   "cell_type": "markdown",
   "metadata": {},
   "source": [
    "## str() method"
   ]
  },
  {
   "cell_type": "code",
   "execution_count": 8,
   "metadata": {},
   "outputs": [
    {
     "data": {
      "text/plain": [
       "'The account of user CheeZe has 0 Baht in total'"
      ]
     },
     "execution_count": 8,
     "metadata": {},
     "output_type": "execute_result"
    }
   ],
   "source": [
    "class BankAccount:\n",
    "    #### class attribute ####\n",
    "    bankAccountType = 'Saving Account'\n",
    "    \n",
    "    #### initializer/ constructor ####\n",
    "    def __init__(self, owner, amount = 0):\n",
    "        #### instance attribute ####\n",
    "        self.owner = owner\n",
    "        self.amount = amount\n",
    "    \n",
    "    #### String representation method ####\n",
    "    def __str__(self):\n",
    "        return 'The account of user {} has {} Baht in total'.format(self.owner, self.amount)\n",
    "        \n",
    "#### Create an instance of BankAccount class ####\n",
    "account1 = BankAccount('CheeZe')\n",
    "str(account1)"
   ]
  }
 ],
 "metadata": {
  "kernelspec": {
   "display_name": "Python 3",
   "language": "python",
   "name": "python3"
  },
  "language_info": {
   "codemirror_mode": {
    "name": "ipython",
    "version": 3
   },
   "file_extension": ".py",
   "mimetype": "text/x-python",
   "name": "python",
   "nbconvert_exporter": "python",
   "pygments_lexer": "ipython3",
   "version": "3.8.5"
  }
 },
 "nbformat": 4,
 "nbformat_minor": 4
}
